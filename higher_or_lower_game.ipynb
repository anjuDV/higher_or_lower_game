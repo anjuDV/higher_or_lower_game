{
 "cells": [
  {
   "cell_type": "code",
   "execution_count": 2,
   "id": "27b8d2ed",
   "metadata": {},
   "outputs": [
    {
     "name": "stdout",
     "output_type": "stream",
     "text": [
      "🎮 Welcome to the Higher or Lower Game!\n",
      "🔢 Current number is: 50\n",
      "Will the next number be higher or lower? (h/l): 33\n",
      "⚠️ Invalid input. Please enter 'h' for higher or 'l' for lower.\n",
      "Will the next number be higher or lower? (h/l): h\n",
      "➡️ Next number is: 78\n",
      "✅ Correct! Your score is: 1\n",
      "Will the next number be higher or lower? (h/l): l\n",
      "➡️ Next number is: 16\n",
      "✅ Correct! Your score is: 2\n",
      "Will the next number be higher or lower? (h/l): h\n",
      "➡️ Next number is: 3\n",
      "❌ Wrong guess. Game over!\n",
      "🎯 Final Score: 2\n"
     ]
    }
   ],
   "source": [
    "import random\n",
    "\n",
    "def higher_or_lower_game():\n",
    "    score = 0\n",
    "    current_number = random.randint(1, 100)\n",
    "    print(\"🎮 Welcome to the Higher or Lower Game!\")\n",
    "    print(\"🔢 Current number is:\", current_number)\n",
    "\n",
    "    while True:\n",
    "        guess = input(\"Will the next number be higher or lower? (h/l): \").lower()\n",
    "\n",
    "        if guess not in ['h', 'l']:\n",
    "            print(\"⚠️ Invalid input. Please enter 'h' for higher or 'l' for lower.\")\n",
    "            continue\n",
    "\n",
    "        next_number = random.randint(1, 100)\n",
    "        print(\"➡️ Next number is:\", next_number)\n",
    "\n",
    "        if (guess == 'h' and next_number > current_number) or \\\n",
    "           (guess == 'l' and next_number < current_number):\n",
    "            score += 1\n",
    "            print(\"✅ Correct! Your score is:\", score)\n",
    "            current_number = next_number\n",
    "        else:\n",
    "            print(\"❌ Wrong guess. Game over!\")\n",
    "            print(\"🎯 Final Score:\", score)\n",
    "            break\n",
    "\n",
    "# Run the game\n",
    "higher_or_lower_game()\n"
   ]
  },
  {
   "cell_type": "code",
   "execution_count": null,
   "id": "4acd0739",
   "metadata": {},
   "outputs": [],
   "source": []
  }
 ],
 "metadata": {
  "kernelspec": {
   "display_name": "Python 3 (ipykernel)",
   "language": "python",
   "name": "python3"
  },
  "language_info": {
   "codemirror_mode": {
    "name": "ipython",
    "version": 3
   },
   "file_extension": ".py",
   "mimetype": "text/x-python",
   "name": "python",
   "nbconvert_exporter": "python",
   "pygments_lexer": "ipython3",
   "version": "3.9.13"
  }
 },
 "nbformat": 4,
 "nbformat_minor": 5
}
